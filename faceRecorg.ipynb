{
 "cells": [
  {
   "cell_type": "code",
   "execution_count": 1,
   "metadata": {},
   "outputs": [],
   "source": [
    "import cv2\n",
    "import face_recognition as fr\n"
   ]
  },
  {
   "cell_type": "code",
   "execution_count": 2,
   "metadata": {},
   "outputs": [
    {
     "data": {
      "text/plain": [
       "array([[[65, 65, 53],\n",
       "        [66, 66, 54],\n",
       "        [67, 67, 55],\n",
       "        ...,\n",
       "        [34, 34, 28],\n",
       "        [32, 32, 26],\n",
       "        [31, 31, 25]],\n",
       "\n",
       "       [[68, 68, 56],\n",
       "        [67, 67, 55],\n",
       "        [66, 66, 54],\n",
       "        ...,\n",
       "        [33, 33, 27],\n",
       "        [33, 33, 27],\n",
       "        [33, 33, 27]],\n",
       "\n",
       "       [[68, 68, 56],\n",
       "        [67, 67, 55],\n",
       "        [67, 67, 55],\n",
       "        ...,\n",
       "        [33, 33, 27],\n",
       "        [34, 34, 28],\n",
       "        [34, 34, 28]],\n",
       "\n",
       "       ...,\n",
       "\n",
       "       [[42, 42, 42],\n",
       "        [39, 39, 39],\n",
       "        [40, 40, 40],\n",
       "        ...,\n",
       "        [38, 38, 38],\n",
       "        [38, 38, 38],\n",
       "        [36, 36, 36]],\n",
       "\n",
       "       [[43, 43, 43],\n",
       "        [40, 40, 40],\n",
       "        [40, 40, 40],\n",
       "        ...,\n",
       "        [38, 38, 38],\n",
       "        [37, 37, 37],\n",
       "        [36, 36, 36]],\n",
       "\n",
       "       [[43, 43, 43],\n",
       "        [40, 40, 40],\n",
       "        [40, 40, 40],\n",
       "        ...,\n",
       "        [39, 39, 39],\n",
       "        [38, 38, 38],\n",
       "        [36, 36, 36]]], dtype=uint8)"
      ]
     },
     "execution_count": 2,
     "metadata": {},
     "output_type": "execute_result"
    }
   ],
   "source": [
    "img=cv2.imread('img.jpg')\n",
    "img"
   ]
  },
  {
   "cell_type": "code",
   "execution_count": 3,
   "metadata": {},
   "outputs": [
    {
     "data": {
      "text/plain": [
       "[array([-0.10311916,  0.07733295,  0.09680667, -0.11138458, -0.17806078,\n",
       "        -0.06899002, -0.08246751, -0.18835312,  0.19706762, -0.22418889,\n",
       "         0.17088482, -0.10283531, -0.25642848,  0.03042808, -0.07712909,\n",
       "         0.23191369, -0.1475284 , -0.14470848, -0.0527256 , -0.08840821,\n",
       "         0.08544844,  0.09577638, -0.02649144,  0.11537629, -0.09716703,\n",
       "        -0.34267503, -0.0704004 , -0.055491  , -0.04481599, -0.14906082,\n",
       "         0.06893378,  0.06198923, -0.22448164,  0.02205794, -0.02147014,\n",
       "         0.10283308, -0.0229907 , -0.13033202,  0.07372621, -0.00559321,\n",
       "        -0.26597005, -0.02680615,  0.09904607,  0.22483519,  0.14981633,\n",
       "         0.00569971,  0.0249865 , -0.12709564,  0.14073072, -0.26666027,\n",
       "        -0.04736977,  0.07535421, -0.04149774, -0.01632855,  0.11209442,\n",
       "        -0.1894113 ,  0.02334568,  0.04172993, -0.196059  ,  0.06083404,\n",
       "         0.16712578, -0.05763775, -0.04735995, -0.09823585,  0.21386378,\n",
       "         0.03204899, -0.12846301, -0.11231413,  0.20537055, -0.23674291,\n",
       "        -0.0328845 ,  0.0582638 , -0.11230758, -0.2120603 , -0.29914194,\n",
       "        -0.02703829,  0.44467762,  0.13962859, -0.08250253,  0.08452145,\n",
       "         0.01010239,  0.02351717,  0.04691815,  0.17049351,  0.07813136,\n",
       "         0.03350503, -0.06652097,  0.12442866,  0.21844721, -0.04492208,\n",
       "         0.05573304,  0.31815442, -0.01266903, -0.0198705 , -0.05153382,\n",
       "         0.03175575, -0.15461248,  0.00352337, -0.12931281,  0.05092943,\n",
       "        -0.05109703,  0.01564961, -0.00586981,  0.10229446, -0.1279518 ,\n",
       "         0.16724879, -0.03116468, -0.04569983, -0.07960679,  0.03024946,\n",
       "        -0.13580948, -0.05366127,  0.12870991, -0.20559683,  0.13279179,\n",
       "         0.17247736,  0.0981705 ,  0.12659255,  0.01785361,  0.07654909,\n",
       "         0.06296492, -0.04648661, -0.20093501, -0.07444342,  0.01535883,\n",
       "        -0.13141048, -0.01667501,  0.02396885])]"
      ]
     },
     "execution_count": 3,
     "metadata": {},
     "output_type": "execute_result"
    }
   ],
   "source": [
    "ar=fr.face_encodings(img)\n",
    "ar"
   ]
  },
  {
   "cell_type": "code",
   "execution_count": 21,
   "metadata": {},
   "outputs": [
    {
     "name": "stdout",
     "output_type": "stream",
     "text": [
      "1\n",
      "2\n",
      "3\n",
      "1\n",
      "1\n",
      "2\n",
      "3\n",
      "4\n",
      "5\n",
      "6\n",
      "7\n",
      "8\n",
      "9\n",
      "10\n"
     ]
    }
   ],
   "source": [
    "import cv2\n",
    "sd=cv2.CascadeClassifier(cv2.data.haarcascades+\"haarcascade_smile.xml\")\n",
    "fd=cv2.CascadeClassifier(cv2.data.haarcascades+\"haarcascade_frontalface_default.xml\")\n",
    "\n",
    "vid=cv2.VideoCapture(0)\n",
    "flag2=True\n",
    "\n",
    "while flag2:\n",
    "    flag,img=vid.read()\n",
    "    face=img\n",
    "    # img_gray=cv2.cvtColor(img,cv2.COLOR_BGR2GRAY)\n",
    "    \n",
    "    if flag:\n",
    "        faces=fd.detectMultiScale(img,1.1,25)\n",
    "        # to detect face using rect and circle \n",
    "        for x,y,w,h in faces:\n",
    "            face=img[y:y+h,x:x+w].copy()\n",
    "            img=cv2.rectangle(img,pt1=(x,y),pt2=(x+w,y+h),color=(0,255,0))\n",
    "            # img=cv2.circle(img, center=(x+w//2,y+w//2), radius=(5+w//2), color=(0,0,255))\n",
    "            smiles=sd.detectMultiScale(face,1.1,200)\n",
    "            if len(smiles)==1:\n",
    "                xs,ys,ws,hs=smiles[0]\n",
    "                cv2.rectangle(img,pt1=(x+xs,y+ys),pt2=(xs+x+ws,ys+y+hs),color=(255,0,0))\n",
    "                counter+=1\n",
    "                print(counter)\n",
    "                if(counter==10):\n",
    "                    cv2.imwrite('my_image.png',img)\n",
    "                    flag2=False\n",
    "            else:\n",
    "                counter=0\n",
    "            # for xs,ys,ws,hs in smiles:\n",
    "            #     img=cv2.rectangle(img,pt1=(x+xs,y+ys),pt2=(xs+x+ws,ys+y+hs),color=(255,0,0))\n",
    "        cv2.imshow(\"webcam\",img)\n",
    "        key=cv2.waitKey(1)\n",
    "        if key==ord(\"q\"):\n",
    "            break\n",
    "    else:\n",
    "        break\n",
    "cv2.destroyAllWindows()\n",
    "cv2.waitKey(1)\n",
    "vid.release()"
   ]
  },
  {
   "cell_type": "code",
   "execution_count": 1,
   "metadata": {},
   "outputs": [
    {
     "ename": "KeyboardInterrupt",
     "evalue": "",
     "output_type": "error",
     "traceback": [
      "\u001b[0;31m---------------------------------------------------------------------------\u001b[0m",
      "\u001b[0;31mKeyboardInterrupt\u001b[0m                         Traceback (most recent call last)",
      "Cell \u001b[0;32mIn[1], line 10\u001b[0m\n\u001b[1;32m      7\u001b[0m flag2\u001b[39m=\u001b[39m\u001b[39mTrue\u001b[39;00m\n\u001b[1;32m      9\u001b[0m \u001b[39mwhile\u001b[39;00m flag2:\n\u001b[0;32m---> 10\u001b[0m     flag,img\u001b[39m=\u001b[39mvid\u001b[39m.\u001b[39;49mread()\n\u001b[1;32m     11\u001b[0m     face\u001b[39m=\u001b[39mimg\n\u001b[1;32m     13\u001b[0m     \u001b[39mif\u001b[39;00m flag:\n",
      "\u001b[0;31mKeyboardInterrupt\u001b[0m: "
     ]
    }
   ],
   "source": [
    "import cv2\n",
    "import face_recognition as fr\n",
    "sd=cv2.CascadeClassifier(cv2.data.haarcascades+\"haarcascade_smile.xml\")\n",
    "fd=cv2.CascadeClassifier(cv2.data.haarcascades+\"haarcascade_frontalface_default.xml\")\n",
    "\n",
    "vid=cv2.VideoCapture(0)\n",
    "flag2=True\n",
    "\n",
    "while flag2:\n",
    "    flag,img=vid.read()\n",
    "    face=img\n",
    "    \n",
    "    if flag:\n",
    "        faces=fd.detectMultiScale(img,1.1,25)\n",
    "        for x,y,w,h in faces:\n",
    "            face=img[y:y+h,x:x+w].copy()\n",
    "            img=cv2.rectangle(img,pt1=(x,y),pt2=(x+w,y+h),color=(0,255,0))\n",
    "        cv2.imshow(\"webcam\",img)\n",
    "        key=cv2.waitKey(1)\n",
    "        if key==ord(\"q\"):\n",
    "            break\n",
    "    else:\n",
    "        break\n",
    "cv2.destroyAllWindows()\n",
    "cv2.waitKey(1)\n",
    "vid.release()\n",
    "enc1=fr.face_encodings(face)\n",
    "print(enc1)"
   ]
  }
 ],
 "metadata": {
  "kernelspec": {
   "display_name": "Python 3",
   "language": "python",
   "name": "python3"
  },
  "language_info": {
   "codemirror_mode": {
    "name": "ipython",
    "version": 3
   },
   "file_extension": ".py",
   "mimetype": "text/x-python",
   "name": "python",
   "nbconvert_exporter": "python",
   "pygments_lexer": "ipython3",
   "version": "3.9.6"
  },
  "orig_nbformat": 4
 },
 "nbformat": 4,
 "nbformat_minor": 2
}
